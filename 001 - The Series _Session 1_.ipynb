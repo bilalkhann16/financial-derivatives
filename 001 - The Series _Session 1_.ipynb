{
 "cells": [
  {
   "cell_type": "code",
   "execution_count": null,
   "id": "71ce77f3",
   "metadata": {},
   "outputs": [],
   "source": [
    "# Bismillah"
   ]
  },
  {
   "cell_type": "code",
   "execution_count": 1,
   "id": "d9f7c8b7",
   "metadata": {},
   "outputs": [],
   "source": [
    "import numpy as np\n",
    "import pandas as pd"
   ]
  },
  {
   "cell_type": "markdown",
   "id": "e59be610",
   "metadata": {},
   "source": [
    "# The Series\n",
    "    * A one-dimensional array\n",
    "    * Holds a single data type\n",
    "    * Allows access to elements through the associated index labels - helps in allignment of multiple series."
   ]
  },
  {
   "cell_type": "code",
   "execution_count": 17,
   "id": "2be0a748",
   "metadata": {},
   "outputs": [
    {
     "data": {
      "text/plain": [
       "array([-0.2142738 , -0.72936542, -0.46762074,  1.60018618,  2.9857811 ,\n",
       "       -0.66874605, -0.34715573,  2.35727166,  1.36612005, -0.23546234,\n",
       "        0.59497932,  0.72363345, -0.19773749, -0.34616701, -0.61068664,\n",
       "       -1.01310776, -1.36318525, -1.51578592, -0.30439966,  0.50364611,\n",
       "        0.35426746, -0.32429232, -0.32232952,  1.05490757, -0.34131142,\n",
       "        0.10895273,  0.34881055, -1.37192724,  1.03577095,  0.40880844,\n",
       "       -0.518049  ,  0.98876839, -0.54289004, -1.26636879, -1.6740122 ,\n",
       "       -0.47719835, -0.58173242, -0.48533975, -0.33650959,  1.89517647,\n",
       "       -0.19499892, -2.27269939,  1.09104068,  0.95781754,  0.07993334,\n",
       "       -0.61847467, -1.40406145,  1.04544771, -1.91208684, -1.8990113 ,\n",
       "       -1.10224468, -0.41053193, -1.16012454,  2.1093086 , -0.77628369,\n",
       "       -0.90879237, -0.02170131, -0.73283532,  1.54540938, -0.88404325,\n",
       "        0.26898248,  1.06248782,  0.00671318, -0.19705513,  0.97320707,\n",
       "       -0.94886538,  0.25829629,  0.50207107,  0.46002717,  0.1666203 ,\n",
       "       -0.06780956, -0.66246785,  1.41467766,  0.96260752,  1.64052678,\n",
       "       -1.31810774, -1.04530744,  1.35794451, -0.89001394,  0.0642149 ,\n",
       "        0.97930482, -0.76313475,  0.41425728, -1.18013314, -0.84704884,\n",
       "        0.04016787,  0.50011972, -1.03195001, -0.33662751, -0.61461777,\n",
       "       -0.3586706 , -0.22074291,  0.87075703, -2.00578052,  1.85500831,\n",
       "       -0.79682007, -0.72152497, -0.2554599 ,  0.64904088,  1.68996365])"
      ]
     },
     "execution_count": 17,
     "metadata": {},
     "output_type": "execute_result"
    }
   ],
   "source": [
    "np.random.randn(100) # numpy array"
   ]
  },
  {
   "cell_type": "code",
   "execution_count": 18,
   "id": "b1c40e94",
   "metadata": {},
   "outputs": [],
   "source": [
    "s = pd.Series(np.random.randn(100)) # pandas series"
   ]
  },
  {
   "cell_type": "code",
   "execution_count": 4,
   "id": "0504c2c0",
   "metadata": {},
   "outputs": [
    {
     "data": {
      "text/plain": [
       "0     0.935821\n",
       "1     1.844381\n",
       "2    -1.146162\n",
       "3    -1.019161\n",
       "4    -0.065930\n",
       "        ...   \n",
       "95   -0.632068\n",
       "96    0.161490\n",
       "97    0.012660\n",
       "98    1.000310\n",
       "99    1.874498\n",
       "Length: 100, dtype: float64"
      ]
     },
     "execution_count": 4,
     "metadata": {},
     "output_type": "execute_result"
    }
   ],
   "source": [
    "s"
   ]
  },
  {
   "cell_type": "code",
   "execution_count": 19,
   "id": "47a0add3-35da-4af7-867f-f9c9c2932086",
   "metadata": {},
   "outputs": [
    {
     "name": "stdout",
     "output_type": "stream",
     "text": [
      "[-0.6631439  -0.19503526  1.4316872  -1.2958872  -0.13690251]\n"
     ]
    }
   ],
   "source": [
    "# print (np.random.randn(2,4))\n",
    "print (np.random.randn(5))"
   ]
  },
  {
   "cell_type": "code",
   "execution_count": 20,
   "id": "7685a24d",
   "metadata": {},
   "outputs": [
    {
     "data": {
      "text/plain": [
       "0.01499485325996352"
      ]
     },
     "execution_count": 20,
     "metadata": {},
     "output_type": "execute_result"
    }
   ],
   "source": [
    "s[2] # grab a value located at index 2."
   ]
  },
  {
   "cell_type": "code",
   "execution_count": 21,
   "id": "f2316bb6",
   "metadata": {},
   "outputs": [],
   "source": [
    "# s[2, 4] # error since no single index, 2 4, exists."
   ]
  },
  {
   "cell_type": "code",
   "execution_count": 22,
   "id": "9e0a1d6f",
   "metadata": {},
   "outputs": [
    {
     "data": {
      "text/plain": [
       "2    0.014995\n",
       "4    0.878744\n",
       "dtype: float64"
      ]
     },
     "execution_count": 22,
     "metadata": {},
     "output_type": "execute_result"
    }
   ],
   "source": [
    "s[[2, 4]] # the inner [] indicates multiple indices given."
   ]
  },
  {
   "cell_type": "code",
   "execution_count": null,
   "id": "be9352f7",
   "metadata": {},
   "outputs": [],
   "source": [
    "s[5:10] # slicing doesn't need [] since there is no confusion."
   ]
  },
  {
   "cell_type": "code",
   "execution_count": 23,
   "id": "fcf52d20",
   "metadata": {},
   "outputs": [
    {
     "data": {
      "text/plain": [
       "0   -0.560468\n",
       "1   -2.633692\n",
       "2    0.014995\n",
       "3    0.483068\n",
       "4    0.878744\n",
       "dtype: float64"
      ]
     },
     "execution_count": 23,
     "metadata": {},
     "output_type": "execute_result"
    }
   ],
   "source": [
    "s.head()"
   ]
  },
  {
   "cell_type": "code",
   "execution_count": 24,
   "id": "ab61ee70",
   "metadata": {},
   "outputs": [
    {
     "data": {
      "text/plain": [
       "95    0.255396\n",
       "96   -0.882441\n",
       "97    1.424949\n",
       "98    0.584258\n",
       "99   -1.433918\n",
       "dtype: float64"
      ]
     },
     "execution_count": 24,
     "metadata": {},
     "output_type": "execute_result"
    }
   ],
   "source": [
    "s.tail()"
   ]
  },
  {
   "cell_type": "code",
   "execution_count": 25,
   "id": "5b093b15",
   "metadata": {},
   "outputs": [
    {
     "data": {
      "text/plain": [
       "(100,)"
      ]
     },
     "execution_count": 25,
     "metadata": {},
     "output_type": "execute_result"
    }
   ],
   "source": [
    "s.shape # 100 rows. Attribute and not method."
   ]
  },
  {
   "cell_type": "code",
   "execution_count": 26,
   "id": "112aba10",
   "metadata": {},
   "outputs": [
    {
     "data": {
      "text/plain": [
       "RangeIndex(start=0, stop=100, step=1)"
      ]
     },
     "execution_count": 26,
     "metadata": {},
     "output_type": "execute_result"
    }
   ],
   "source": [
    "s.index # Attribute and not method."
   ]
  },
  {
   "cell_type": "code",
   "execution_count": 27,
   "id": "e43adab9",
   "metadata": {},
   "outputs": [
    {
     "data": {
      "text/plain": [
       "array([-0.56046767, -2.63369231,  0.01499485,  0.48306805,  0.87874351,\n",
       "        1.52418027,  0.59021396,  0.46555268,  1.63253972, -1.10181885,\n",
       "        0.12764068,  0.93711187,  1.38747658, -1.00883074, -0.72396139,\n",
       "        0.19803966, -1.10472064,  1.61574664, -0.49863254, -0.49831719,\n",
       "        0.40409435,  1.11726209, -0.60797471, -0.49835572,  0.61460813,\n",
       "        0.08149923,  0.35015917,  0.3680609 ,  1.60070932, -0.41175116,\n",
       "        0.59619842,  0.36501897, -1.69517099,  0.53231569, -0.59462624,\n",
       "        0.61546082,  0.86387364,  0.73376305,  1.84907862,  0.69863818,\n",
       "       -1.37201822, -1.92535353, -1.4830904 , -0.36671067, -0.65581083,\n",
       "       -0.68965717,  0.82896225, -0.56904075,  1.25175662, -1.21401475,\n",
       "        0.26709485,  0.03942731, -1.01315677,  1.7310397 , -0.13823908,\n",
       "        0.9302917 ,  1.81308248,  0.50065562,  0.6179493 ,  0.70044821,\n",
       "        0.84984838, -0.04725793, -1.22203643,  1.89631151, -0.23461342,\n",
       "       -1.63227555,  0.32132571, -0.18484887, -1.73030353,  0.95636766,\n",
       "       -0.03933406, -0.1291459 , -0.89662231,  0.49104422, -0.16787985,\n",
       "       -0.80746787, -0.02008994,  0.99183134,  0.0245928 ,  0.81355156,\n",
       "       -0.99619523,  0.43549148, -0.64963865,  2.19882166,  0.33624614,\n",
       "        0.61426345, -0.09424953, -0.81869107,  0.11928226,  1.93529119,\n",
       "       -1.52333362, -1.07217061,  1.26642458, -2.35760053, -0.87313667,\n",
       "        0.25539561, -0.88244073,  1.42494933,  0.58425753, -1.43391779])"
      ]
     },
     "execution_count": 27,
     "metadata": {},
     "output_type": "execute_result"
    }
   ],
   "source": [
    "s.values"
   ]
  },
  {
   "cell_type": "code",
   "execution_count": 28,
   "id": "32f5bfe1",
   "metadata": {},
   "outputs": [],
   "source": [
    "s = pd.Series([1, 2, 3, 4], index = ['a', 'b', 'c', 'd']) \n",
    "# [] to indicate multiple values as usual. Indices assigned at the time of constructing a series.\n",
    "# Series created through a list."
   ]
  },
  {
   "cell_type": "code",
   "execution_count": 29,
   "id": "3332c430",
   "metadata": {},
   "outputs": [
    {
     "data": {
      "text/plain": [
       "a    1\n",
       "b    2\n",
       "c    3\n",
       "d    4\n",
       "dtype: int64"
      ]
     },
     "execution_count": 29,
     "metadata": {},
     "output_type": "execute_result"
    }
   ],
   "source": [
    "s"
   ]
  },
  {
   "cell_type": "code",
   "execution_count": null,
   "id": "eaf0110a-e01c-4dbe-884a-66b290958d75",
   "metadata": {},
   "outputs": [],
   "source": []
  },
  {
   "cell_type": "code",
   "execution_count": 32,
   "id": "22a0aef7",
   "metadata": {},
   "outputs": [],
   "source": [
    "s = pd.Series({'a': 1, 'b': 2, 'c': 3, 'd': 4})\n",
    "# Series created through a dictionary. The keys are the indices in the series."
   ]
  },
  {
   "cell_type": "code",
   "execution_count": 34,
   "id": "913700e4",
   "metadata": {},
   "outputs": [
    {
     "data": {
      "text/plain": [
       "a    1\n",
       "b    2\n",
       "c    3\n",
       "d    4\n",
       "dtype: int64"
      ]
     },
     "execution_count": 34,
     "metadata": {},
     "output_type": "execute_result"
    }
   ],
   "source": [
    "s"
   ]
  },
  {
   "cell_type": "code",
   "execution_count": 35,
   "id": "f377bedf",
   "metadata": {},
   "outputs": [],
   "source": [
    "s = pd.Series([1, 2, 3, 4, np.nan])\n",
    "# np.nan so that the pandas know that this value is missing."
   ]
  },
  {
   "cell_type": "code",
   "execution_count": 36,
   "id": "cbdc2adb",
   "metadata": {},
   "outputs": [
    {
     "data": {
      "text/plain": [
       "0    1.0\n",
       "1    2.0\n",
       "2    3.0\n",
       "3    4.0\n",
       "4    NaN\n",
       "dtype: float64"
      ]
     },
     "execution_count": 36,
     "metadata": {},
     "output_type": "execute_result"
    }
   ],
   "source": [
    "s"
   ]
  },
  {
   "cell_type": "code",
   "execution_count": null,
   "id": "3be6c713",
   "metadata": {},
   "outputs": [],
   "source": [
    "len(s)\n",
    "# includes a missing avalue as well."
   ]
  },
  {
   "cell_type": "code",
   "execution_count": 39,
   "id": "ce7cae5d",
   "metadata": {},
   "outputs": [
    {
     "data": {
      "text/plain": [
       "4"
      ]
     },
     "execution_count": 39,
     "metadata": {},
     "output_type": "execute_result"
    }
   ],
   "source": [
    "s.count()\n",
    "# excludes missing value."
   ]
  },
  {
   "cell_type": "code",
   "execution_count": null,
   "id": "a84c3cdb",
   "metadata": {},
   "outputs": [],
   "source": [
    "s = pd.Series([10, 3 , 4, 5, 7, 7, 9, 10, np.nan])"
   ]
  },
  {
   "cell_type": "code",
   "execution_count": null,
   "id": "c5561e93",
   "metadata": {},
   "outputs": [],
   "source": [
    "s"
   ]
  },
  {
   "cell_type": "code",
   "execution_count": 40,
   "id": "2e789c88",
   "metadata": {},
   "outputs": [
    {
     "data": {
      "text/plain": [
       "array([ 1.,  2.,  3.,  4., nan])"
      ]
     },
     "execution_count": 40,
     "metadata": {},
     "output_type": "execute_result"
    }
   ],
   "source": [
    "s.unique()\n",
    "# returns only unique values. That is, avoid repeatition of the same value.\n",
    "# returns the missing value as well."
   ]
  },
  {
   "cell_type": "code",
   "execution_count": 50,
   "id": "4a54c2e8",
   "metadata": {},
   "outputs": [
    {
     "data": {
      "text/plain": [
       "1.0    1\n",
       "2.0    1\n",
       "3.0    1\n",
       "4.0    1\n",
       "dtype: int64"
      ]
     },
     "execution_count": 50,
     "metadata": {},
     "output_type": "execute_result"
    }
   ],
   "source": [
    "s.value_counts()\n",
    "# returns frrequency distribution in descending order. For ascending order, ascending = True.\n",
    "# excludes a missing value."
   ]
  },
  {
   "cell_type": "code",
   "execution_count": 51,
   "id": "832d3115",
   "metadata": {},
   "outputs": [
    {
     "data": {
      "text/plain": [
       "1.0    1\n",
       "2.0    1\n",
       "3.0    1\n",
       "4.0    1\n",
       "dtype: int64"
      ]
     },
     "execution_count": 51,
     "metadata": {},
     "output_type": "execute_result"
    }
   ],
   "source": [
    "s.value_counts(ascending = True) # go from smaller values to larger values."
   ]
  },
  {
   "cell_type": "code",
   "execution_count": 52,
   "id": "9c0e4a48",
   "metadata": {},
   "outputs": [
    {
     "data": {
      "text/plain": [
       "1.0    0.25\n",
       "2.0    0.25\n",
       "3.0    0.25\n",
       "4.0    0.25\n",
       "dtype: float64"
      ]
     },
     "execution_count": 52,
     "metadata": {},
     "output_type": "execute_result"
    }
   ],
   "source": [
    "s.value_counts(normalize = True) # to grab percentages. ascending = False is the default argument.\n"
   ]
  },
  {
   "cell_type": "code",
   "execution_count": 53,
   "id": "294df128",
   "metadata": {},
   "outputs": [],
   "source": [
    "s1 = pd.Series([1, 2, 3, 4], index = ['a', 'b', 'c', 'd'])\n",
    "s2 = pd.Series([4, 3, 2, 1], index = ['d', 'c', 'b', 'a'])"
   ]
  },
  {
   "cell_type": "code",
   "execution_count": 54,
   "id": "2f284b22",
   "metadata": {},
   "outputs": [
    {
     "data": {
      "text/plain": [
       "a    2\n",
       "b    4\n",
       "c    6\n",
       "d    8\n",
       "dtype: int64"
      ]
     },
     "execution_count": 54,
     "metadata": {},
     "output_type": "execute_result"
    }
   ],
   "source": [
    "s1 + s2\n",
    "# The allignment is done automatically on the basis of index labels.\n",
    "# This feature does not exist in numpy array. See below."
   ]
  },
  {
   "cell_type": "code",
   "execution_count": 55,
   "id": "c81bb83f",
   "metadata": {},
   "outputs": [],
   "source": [
    "a1 = np.array([1, 2, 3, 4])\n",
    "a2 = np.array([4, 3, 2, 1])"
   ]
  },
  {
   "cell_type": "code",
   "execution_count": 56,
   "id": "16f4e3b1",
   "metadata": {},
   "outputs": [
    {
     "data": {
      "text/plain": [
       "array([1, 2, 3, 4])"
      ]
     },
     "execution_count": 56,
     "metadata": {},
     "output_type": "execute_result"
    }
   ],
   "source": [
    "a1"
   ]
  },
  {
   "cell_type": "code",
   "execution_count": 57,
   "id": "c81a143f",
   "metadata": {},
   "outputs": [
    {
     "data": {
      "text/plain": [
       "array([4, 3, 2, 1])"
      ]
     },
     "execution_count": 57,
     "metadata": {},
     "output_type": "execute_result"
    }
   ],
   "source": [
    "a2"
   ]
  },
  {
   "cell_type": "code",
   "execution_count": 58,
   "id": "ca743c91",
   "metadata": {},
   "outputs": [
    {
     "data": {
      "text/plain": [
       "array([5, 5, 5, 5])"
      ]
     },
     "execution_count": 58,
     "metadata": {},
     "output_type": "execute_result"
    }
   ],
   "source": [
    "a1 + a2\n",
    "# each corresponding element from both the arrays must be added. No flexibility of adding any two desriable elements of\n",
    "# array located at different indices."
   ]
  },
  {
   "cell_type": "code",
   "execution_count": null,
   "id": "ca68d781-abee-4214-afd7-6805e5495db3",
   "metadata": {},
   "outputs": [],
   "source": []
  }
 ],
 "metadata": {
  "kernelspec": {
   "display_name": "Python 3 (ipykernel)",
   "language": "python",
   "name": "python3"
  },
  "language_info": {
   "codemirror_mode": {
    "name": "ipython",
    "version": 3
   },
   "file_extension": ".py",
   "mimetype": "text/x-python",
   "name": "python",
   "nbconvert_exporter": "python",
   "pygments_lexer": "ipython3",
   "version": "3.9.7"
  }
 },
 "nbformat": 4,
 "nbformat_minor": 5
}
